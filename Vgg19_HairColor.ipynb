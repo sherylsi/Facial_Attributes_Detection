{
 "cells": [
  {
   "cell_type": "code",
   "execution_count": 1,
   "metadata": {},
   "outputs": [
    {
     "name": "stderr",
     "output_type": "stream",
     "text": [
      "/home/ubuntu/anaconda3/envs/tensorflow2_latest_p37/lib/python3.7/site-packages/IPython/utils/traitlets.py:5: UserWarning: IPython.utils.traitlets has moved to a top-level traitlets package.\n",
      "  warn(\"IPython.utils.traitlets has moved to a top-level traitlets package.\")\n"
     ]
    }
   ],
   "source": [
    "from Classes.LoadModel import BaseModel\n",
    "from Classes.Predict import Prediction\n",
    "from Classes.Summarize import *\n",
    "from Classes.Multiclass_model import *\n",
    "from tensorflow.keras.optimizers import RMSprop, SGD, Adam\n",
    "from tensorflow.keras.models import Sequential, Model\n",
    "from tensorflow.keras.layers import Dense, Flatten, Layer, Input, Dropout, Activation, Convolution2D, MaxPooling2D\n",
    "import tensorflow as tf\n",
    "from tensorflow.keras.layers import (Dense, Conv2D, MaxPool2D, Dropout, Flatten, LeakyReLU)"
   ]
  },
  {
   "cell_type": "code",
   "execution_count": 2,
   "metadata": {},
   "outputs": [],
   "source": [
    "# Start images processing and dataframe splitting\n",
    "Multi = Multiclass_Model(IND_FILE)\n",
    "trainer = Train(IND_FILE, IMAGE_PATH)"
   ]
  },
  {
   "cell_type": "code",
   "execution_count": 3,
   "metadata": {},
   "outputs": [
    {
     "name": "stdout",
     "output_type": "stream",
     "text": [
      "Reading File...\n",
      "Preparing data.. \n",
      "Creating Train, Test...\n",
      "Assertions Passed! Sets  Are of image files W/O Duplication\n",
      "Done!\n"
     ]
    }
   ],
   "source": [
    "print('Reading File...')\n",
    "print(f'Preparing data.. \\nCreating Train, Test...')\n",
    "\n",
    "label_list = ['Brown_Hair','Blond_Hair', 'Black_Hair','Bald', 'Gray_Hair']\n",
    "train, test = Multi.create_dataframe_multi(label_list, 4500)\n",
    "print('Done!')"
   ]
  },
  {
   "cell_type": "code",
   "execution_count": 4,
   "metadata": {},
   "outputs": [
    {
     "name": "stdout",
     "output_type": "stream",
     "text": [
      "\n",
      "Running data generator...\n",
      "Found 13804 validated image filenames belonging to 5 classes.\n",
      "Found 3450 validated image filenames belonging to 5 classes.\n",
      "Found 4494 validated image filenames.\n"
     ]
    }
   ],
   "source": [
    "# Split Train, Validation and Test Sets\n",
    "print(f'\\nRunning data generator...')\n",
    "model_name = 'vgg19'\n",
    "train_data, valid_data, test_data = Multi.generator_splitter_multi(model_name, train, test, IMAGE_PATH)"
   ]
  },
  {
   "cell_type": "code",
   "execution_count": 5,
   "metadata": {},
   "outputs": [
    {
     "name": "stdout",
     "output_type": "stream",
     "text": [
      "\n",
      "\n",
      "Loading Model...\n",
      "Pick a Model: vgg19, MobileNetV2, vggface, facenet, emotion, age, gender, race\n"
     ]
    }
   ],
   "source": [
    "# Loading Base Model\n",
    "print(f'\\n\\nLoading Model...')\n",
    "print('Pick a Model: vgg19, MobileNetV2, vggface, facenet, emotion, age, gender, race')\n",
    "model_name = 'vgg19'\n",
    "label_name = 'Hair_color'\n",
    "model_file = os.path.join('Weights/', model_name + '_' + label_name + '.h5')\n",
    "json_path = os.path.join('json/', model_name + '_' + label_name + '.json')\n",
    "epoch = 100"
   ]
  },
  {
   "cell_type": "code",
   "execution_count": 6,
   "metadata": {},
   "outputs": [
    {
     "name": "stdout",
     "output_type": "stream",
     "text": [
      "\n",
      "Training Start...\n",
      "Input_shape:\t(None, 224, 224, 3)\n",
      "Output_shape:\t(None, 7, 7, 512)\n",
      "Params:\t20024384\n",
      "Layer:\t22\n",
      "\n",
      "\n",
      "Model: \"vgg19\"\n",
      "_________________________________________________________________\n",
      "Layer (type)                 Output Shape              Param #   \n",
      "=================================================================\n",
      "input_1 (InputLayer)         [(None, 224, 224, 3)]     0         \n",
      "_________________________________________________________________\n",
      "block1_conv1 (Conv2D)        (None, 224, 224, 64)      1792      \n",
      "_________________________________________________________________\n",
      "block1_conv2 (Conv2D)        (None, 224, 224, 64)      36928     \n",
      "_________________________________________________________________\n",
      "block1_pool (MaxPooling2D)   (None, 112, 112, 64)      0         \n",
      "_________________________________________________________________\n",
      "block2_conv1 (Conv2D)        (None, 112, 112, 128)     73856     \n",
      "_________________________________________________________________\n",
      "block2_conv2 (Conv2D)        (None, 112, 112, 128)     147584    \n",
      "_________________________________________________________________\n",
      "block2_pool (MaxPooling2D)   (None, 56, 56, 128)       0         \n",
      "_________________________________________________________________\n",
      "block3_conv1 (Conv2D)        (None, 56, 56, 256)       295168    \n",
      "_________________________________________________________________\n",
      "block3_conv2 (Conv2D)        (None, 56, 56, 256)       590080    \n",
      "_________________________________________________________________\n",
      "block3_conv3 (Conv2D)        (None, 56, 56, 256)       590080    \n",
      "_________________________________________________________________\n",
      "block3_conv4 (Conv2D)        (None, 56, 56, 256)       590080    \n",
      "_________________________________________________________________\n",
      "block3_pool (MaxPooling2D)   (None, 28, 28, 256)       0         \n",
      "_________________________________________________________________\n",
      "block4_conv1 (Conv2D)        (None, 28, 28, 512)       1180160   \n",
      "_________________________________________________________________\n",
      "block4_conv2 (Conv2D)        (None, 28, 28, 512)       2359808   \n",
      "_________________________________________________________________\n",
      "block4_conv3 (Conv2D)        (None, 28, 28, 512)       2359808   \n",
      "_________________________________________________________________\n",
      "block4_conv4 (Conv2D)        (None, 28, 28, 512)       2359808   \n",
      "_________________________________________________________________\n",
      "block4_pool (MaxPooling2D)   (None, 14, 14, 512)       0         \n",
      "_________________________________________________________________\n",
      "block5_conv1 (Conv2D)        (None, 14, 14, 512)       2359808   \n",
      "_________________________________________________________________\n",
      "block5_conv2 (Conv2D)        (None, 14, 14, 512)       2359808   \n",
      "_________________________________________________________________\n",
      "block5_conv3 (Conv2D)        (None, 14, 14, 512)       2359808   \n",
      "_________________________________________________________________\n",
      "block5_conv4 (Conv2D)        (None, 14, 14, 512)       2359808   \n",
      "_________________________________________________________________\n",
      "block5_pool (MaxPooling2D)   (None, 7, 7, 512)         0         \n",
      "=================================================================\n",
      "Total params: 20,024,384\n",
      "Trainable params: 20,024,384\n",
      "Non-trainable params: 0\n",
      "_________________________________________________________________\n"
     ]
    }
   ],
   "source": [
    "# Training\n",
    "print(f'\\nTraining Start...')\n",
    "basemodel = BaseModel(model_name)\n",
    "\n",
    "base_model = basemodel.load_model()\n",
    "base_model.trainable = False"
   ]
  },
  {
   "cell_type": "code",
   "execution_count": 7,
   "metadata": {},
   "outputs": [
    {
     "name": "stdout",
     "output_type": "stream",
     "text": [
      "Epoch 1/100\n",
      "215/215 [==============================] - ETA: 0s - loss: 1.7185 - accuracy: 0.3299\n",
      "Epoch 00001: val_loss improved from inf to 1.29153, saving model to Weights/vgg19_Hair_color.h5\n",
      "215/215 [==============================] - 102s 474ms/step - loss: 1.7185 - accuracy: 0.3299 - val_loss: 1.2915 - val_accuracy: 0.4593\n",
      "Epoch 2/100\n",
      "215/215 [==============================] - ETA: 0s - loss: 1.3265 - accuracy: 0.4612\n",
      "Epoch 00002: val_loss improved from 1.29153 to 1.11876, saving model to Weights/vgg19_Hair_color.h5\n",
      "215/215 [==============================] - 100s 464ms/step - loss: 1.3265 - accuracy: 0.4612 - val_loss: 1.1188 - val_accuracy: 0.5881\n",
      "Epoch 3/100\n",
      "215/215 [==============================] - ETA: 0s - loss: 1.2129 - accuracy: 0.5191\n",
      "Epoch 00003: val_loss improved from 1.11876 to 1.06031, saving model to Weights/vgg19_Hair_color.h5\n",
      "215/215 [==============================] - 100s 466ms/step - loss: 1.2129 - accuracy: 0.5191 - val_loss: 1.0603 - val_accuracy: 0.6247\n",
      "Epoch 4/100\n",
      "215/215 [==============================] - ETA: 0s - loss: 1.1287 - accuracy: 0.5626\n",
      "Epoch 00004: val_loss improved from 1.06031 to 1.00105, saving model to Weights/vgg19_Hair_color.h5\n",
      "215/215 [==============================] - 100s 467ms/step - loss: 1.1287 - accuracy: 0.5626 - val_loss: 1.0011 - val_accuracy: 0.6512\n",
      "Epoch 5/100\n",
      "215/215 [==============================] - ETA: 0s - loss: 1.0513 - accuracy: 0.5884\n",
      "Epoch 00005: val_loss improved from 1.00105 to 0.99426, saving model to Weights/vgg19_Hair_color.h5\n",
      "215/215 [==============================] - 100s 466ms/step - loss: 1.0513 - accuracy: 0.5884 - val_loss: 0.9943 - val_accuracy: 0.6604\n",
      "Epoch 6/100\n",
      "215/215 [==============================] - ETA: 0s - loss: 0.9794 - accuracy: 0.6238\n",
      "Epoch 00006: val_loss did not improve from 0.99426\n",
      "215/215 [==============================] - 100s 465ms/step - loss: 0.9794 - accuracy: 0.6238 - val_loss: 1.0125 - val_accuracy: 0.6804\n",
      "Epoch 7/100\n",
      "215/215 [==============================] - ETA: 0s - loss: 0.9517 - accuracy: 0.6386\n",
      "Epoch 00007: val_loss did not improve from 0.99426\n",
      "215/215 [==============================] - 100s 465ms/step - loss: 0.9517 - accuracy: 0.6386 - val_loss: 1.0246 - val_accuracy: 0.6804\n",
      "Epoch 8/100\n",
      "215/215 [==============================] - ETA: 0s - loss: 0.9120 - accuracy: 0.6602\n",
      "Epoch 00008: val_loss did not improve from 0.99426\n",
      "215/215 [==============================] - 100s 465ms/step - loss: 0.9120 - accuracy: 0.6602 - val_loss: 1.1183 - val_accuracy: 0.6999\n",
      "Epoch 00008: early stopping\n",
      "Loading best weights...\n",
      "Done!\n"
     ]
    }
   ],
   "source": [
    "# Trainable classification head\n",
    "model = tf.keras.Sequential([\n",
    "    base_model,\n",
    "    Flatten(),\n",
    "    Dense(32),\n",
    "    LeakyReLU(0.001),\n",
    "    Dropout(0.5),\n",
    "    Dense(16),\n",
    "    LeakyReLU(0.001),\n",
    "    Dense(5, activation='softmax')])\n",
    "\n",
    "history, model = trainer.start_train(model, model_file, train_data, valid_data, epoch, multi=True,\n",
    "                                     callback=None,\n",
    "                                     optimize=None)\n",
    "print('Loading best weights...')\n",
    "model.load_weights(model_file)\n",
    "print('Done!')\n",
    "\n",
    "# Saving History\n",
    "with open(json_path, 'w') as f:\n",
    "    json.dump(history.history, f)\n",
    "history = json.load(open(json_path))"
   ]
  },
  {
   "cell_type": "code",
   "execution_count": 8,
   "metadata": {},
   "outputs": [
    {
     "name": "stdout",
     "output_type": "stream",
     "text": [
      "Evaluating the network ...\n",
      "54/54 [==============================] - 23s 427ms/step - loss: 0.9988 - accuracy: 0.6597\n",
      "Validation Loss:\t0.999\n",
      "Validation Acc.:\t0.66\n"
     ]
    }
   ],
   "source": [
    "# Evaluate the network on valid data\n",
    "Prediction.evaluate_model(model, valid_data)"
   ]
  },
  {
   "cell_type": "code",
   "execution_count": 9,
   "metadata": {},
   "outputs": [
    {
     "data": {
      "text/plain": [
       "{'Bald': 0, 'Black_Hair': 1, 'Blond_Hair': 2, 'Brown_Hair': 3, 'Gray_Hair': 4}"
      ]
     },
     "execution_count": 9,
     "metadata": {},
     "output_type": "execute_result"
    }
   ],
   "source": [
    "labels = (train_data.class_indices)\n",
    "labels"
   ]
  },
  {
   "cell_type": "code",
   "execution_count": 10,
   "metadata": {},
   "outputs": [
    {
     "name": "stdout",
     "output_type": "stream",
     "text": [
      "Starting prediction...\n",
      "Done!\n"
     ]
    }
   ],
   "source": [
    "# Predict on test data\n",
    "y_pred = Prediction.test_prediction(model, test_data, train_data)"
   ]
  },
  {
   "cell_type": "code",
   "execution_count": 11,
   "metadata": {},
   "outputs": [
    {
     "name": "stdout",
     "output_type": "stream",
     "text": [
      "Confusion Matrix ...\n",
      "     0    1    2    3    4\n",
      "0  705   15    0    2  176\n",
      "1   43  603    9  157   81\n",
      "2    1   19  622  194   59\n",
      "3    5  172  138  465  117\n",
      "4  192   27   49   48  581\n"
     ]
    },
    {
     "data": {
      "image/png": "[encoded data removed]",
      "text/plain": [
       "<Figure size 1080x360 with 2 Axes>"
      ]
     },
     "metadata": {
      "needs_background": "light"
     },
     "output_type": "display_data"
    },
    {
     "name": "stdout",
     "output_type": "stream",
     "text": [
      "Classification Report ...\n",
      "{'Bald': {'precision': 0.7452431289640592, 'recall': 0.7850779510022272, 'f1-score': 0.7646420824295012, 'support': 898}, 'Black_Hair': {'precision': 0.7212918660287081, 'recall': 0.6752519596864501, 'f1-score': 0.6975130133024869, 'support': 893}, 'Blond_Hair': {'precision': 0.7603911980440098, 'recall': 0.6949720670391062, 'f1-score': 0.726211325160537, 'support': 895}, 'Brown_Hair': {'precision': 0.5369515011547344, 'recall': 0.5183946488294314, 'f1-score': 0.5275099262620534, 'support': 897}, 'Gray_Hair': {'precision': 0.5729783037475346, 'recall': 0.6477146042363434, 'f1-score': 0.6080586080586081, 'support': 897}, 'accuracy': 0.6642857142857143, 'macro avg': {'precision': 0.6673711995878092, 'recall': 0.6642822461587117, 'f1-score': 0.6647869910426374, 'support': 4480}, 'weighted avg': {'precision': 0.6672989114776977, 'recall': 0.6642857142857143, 'f1-score': 0.664752638885073, 'support': 4480}}\n"
     ]
    }
   ],
   "source": [
    "# plot\n",
    "top = min(len(test['label']), len(y_pred))\n",
    "metrics = Metrics(history, epoch, test['label'][:top].tolist(), y_pred[:top], model_name, label_name)\n",
    "metrics.confusion_matrix()\n",
    "metrics.acc_loss_graph()\n",
    "metrics.classification_report()"
   ]
  },
  {
   "cell_type": "code",
   "execution_count": null,
   "metadata": {},
   "outputs": [],
   "source": []
  }
 ],
 "metadata": {
  "kernelspec": {
   "display_name": "Environment (conda_tensorflow2_latest_p37)",
   "language": "python",
   "name": "conda_tensorflow2_latest_p37"
  },
  "language_info": {
   "codemirror_mode": {
    "name": "ipython",
    "version": 3
   },
   "file_extension": ".py",
   "mimetype": "text/x-python",
   "name": "python",
   "nbconvert_exporter": "python",
   "pygments_lexer": "ipython3",
   "version": "3.7.7"
  }
 },
 "nbformat": 4,
 "nbformat_minor": 4
}
