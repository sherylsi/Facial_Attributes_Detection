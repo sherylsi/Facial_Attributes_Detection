{
 "cells": [
  {
   "cell_type": "code",
   "execution_count": 8,
   "metadata": {},
   "outputs": [],
   "source": [
    "from Classes.LoadModel import BaseModel\n",
    "from Classes.Predict import Prediction\n",
    "from Classes.Summarize import *\n",
    "from Classes.Multiclass_model import *\n",
    "from tensorflow.keras.optimizers import RMSprop, SGD, Adam\n",
    "from tensorflow.keras.models import Sequential, Model\n",
    "from tensorflow.keras.layers import Dense, Flatten, Layer, Input, Dropout, Activation, Convolution2D, MaxPooling2D\n",
    "import tensorflow as tf\n",
    "from tensorflow.keras.layers import (Dense, Conv2D, MaxPool2D, Dropout, Flatten, LeakyReLU, BatchNormalization)"
   ]
  },
  {
   "cell_type": "code",
   "execution_count": 2,
   "metadata": {},
   "outputs": [],
   "source": [
    "# Start images processing and dataframe splitting\n",
    "Multi = Multiclass_Model(IND_FILE)\n",
    "trainer = Train(IND_FILE, IMAGE_PATH)"
   ]
  },
  {
   "cell_type": "code",
   "execution_count": 3,
   "metadata": {},
   "outputs": [
    {
     "name": "stdout",
     "output_type": "stream",
     "text": [
      "Reading File...\n",
      "Preparing data.. \n",
      "Creating Train, Test...\n",
      "Assertions Passed! Sets  Are of image files W/O Duplication\n",
      "Done!\n"
     ]
    }
   ],
   "source": [
    "print('Reading File...')\n",
    "print(f'Preparing data.. \\nCreating Train, Test...')\n",
    "\n",
    "label_list = ['Brown_Hair','Blond_Hair', 'Black_Hair','Bald', 'Gray_Hair']\n",
    "train, test = Multi.create_dataframe_multi(label_list, 4500)\n",
    "print('Done!')"
   ]
  },
  {
   "cell_type": "code",
   "execution_count": 4,
   "metadata": {},
   "outputs": [
    {
     "name": "stdout",
     "output_type": "stream",
     "text": [
      "\n",
      "Running data generator...\n",
      "Found 13804 validated image filenames belonging to 5 classes.\n",
      "Found 3450 validated image filenames belonging to 5 classes.\n",
      "Found 4494 validated image filenames.\n"
     ]
    }
   ],
   "source": [
    "# Split Train, Validation and Test Sets\n",
    "print(f'\\nRunning data generator...')\n",
    "model_name = 'vgg19'\n",
    "train_data, valid_data, test_data = Multi.generator_splitter_multi(model_name, train, test, IMAGE_PATH)"
   ]
  },
  {
   "cell_type": "code",
   "execution_count": 5,
   "metadata": {},
   "outputs": [
    {
     "name": "stdout",
     "output_type": "stream",
     "text": [
      "\n",
      "\n",
      "Loading Model...\n",
      "Pick a Model: vgg19, MobileNetV2, vggface, facenet, emotion, age, gender, race\n"
     ]
    }
   ],
   "source": [
    "# Loading Base Model\n",
    "print(f'\\n\\nLoading Model...')\n",
    "print('Pick a Model: vgg19, MobileNetV2, vggface, facenet, emotion, age, gender, race')\n",
    "model_name = 'vgg19'\n",
    "label_name = 'Hair_color_2'\n",
    "model_file = os.path.join('Weights/', model_name + '_' + label_name + '.h5')\n",
    "json_path = os.path.join('json/', model_name + '_' + label_name + '.json')\n",
    "epoch = 100"
   ]
  },
  {
   "cell_type": "code",
   "execution_count": 6,
   "metadata": {},
   "outputs": [
    {
     "name": "stdout",
     "output_type": "stream",
     "text": [
      "\n",
      "Training Start...\n",
      "Input_shape:\t(None, 224, 224, 3)\n",
      "Output_shape:\t(None, 7, 7, 512)\n",
      "Params:\t20024384\n",
      "Layer:\t22\n",
      "\n",
      "\n",
      "Model: \"vgg19\"\n",
      "_________________________________________________________________\n",
      "Layer (type)                 Output Shape              Param #   \n",
      "=================================================================\n",
      "input_1 (InputLayer)         [(None, 224, 224, 3)]     0         \n",
      "_________________________________________________________________\n",
      "block1_conv1 (Conv2D)        (None, 224, 224, 64)      1792      \n",
      "_________________________________________________________________\n",
      "block1_conv2 (Conv2D)        (None, 224, 224, 64)      36928     \n",
      "_________________________________________________________________\n",
      "block1_pool (MaxPooling2D)   (None, 112, 112, 64)      0         \n",
      "_________________________________________________________________\n",
      "block2_conv1 (Conv2D)        (None, 112, 112, 128)     73856     \n",
      "_________________________________________________________________\n",
      "block2_conv2 (Conv2D)        (None, 112, 112, 128)     147584    \n",
      "_________________________________________________________________\n",
      "block2_pool (MaxPooling2D)   (None, 56, 56, 128)       0         \n",
      "_________________________________________________________________\n",
      "block3_conv1 (Conv2D)        (None, 56, 56, 256)       295168    \n",
      "_________________________________________________________________\n",
      "block3_conv2 (Conv2D)        (None, 56, 56, 256)       590080    \n",
      "_________________________________________________________________\n",
      "block3_conv3 (Conv2D)        (None, 56, 56, 256)       590080    \n",
      "_________________________________________________________________\n",
      "block3_conv4 (Conv2D)        (None, 56, 56, 256)       590080    \n",
      "_________________________________________________________________\n",
      "block3_pool (MaxPooling2D)   (None, 28, 28, 256)       0         \n",
      "_________________________________________________________________\n",
      "block4_conv1 (Conv2D)        (None, 28, 28, 512)       1180160   \n",
      "_________________________________________________________________\n",
      "block4_conv2 (Conv2D)        (None, 28, 28, 512)       2359808   \n",
      "_________________________________________________________________\n",
      "block4_conv3 (Conv2D)        (None, 28, 28, 512)       2359808   \n",
      "_________________________________________________________________\n",
      "block4_conv4 (Conv2D)        (None, 28, 28, 512)       2359808   \n",
      "_________________________________________________________________\n",
      "block4_pool (MaxPooling2D)   (None, 14, 14, 512)       0         \n",
      "_________________________________________________________________\n",
      "block5_conv1 (Conv2D)        (None, 14, 14, 512)       2359808   \n",
      "_________________________________________________________________\n",
      "block5_conv2 (Conv2D)        (None, 14, 14, 512)       2359808   \n",
      "_________________________________________________________________\n",
      "block5_conv3 (Conv2D)        (None, 14, 14, 512)       2359808   \n",
      "_________________________________________________________________\n",
      "block5_conv4 (Conv2D)        (None, 14, 14, 512)       2359808   \n",
      "_________________________________________________________________\n",
      "block5_pool (MaxPooling2D)   (None, 7, 7, 512)         0         \n",
      "=================================================================\n",
      "Total params: 20,024,384\n",
      "Trainable params: 20,024,384\n",
      "Non-trainable params: 0\n",
      "_________________________________________________________________\n"
     ]
    }
   ],
   "source": [
    "# Training\n",
    "print(f'\\nTraining Start...')\n",
    "basemodel = BaseModel(model_name)\n",
    "\n",
    "base_model = basemodel.load_model()\n",
    "base_model.trainable = False"
   ]
  },
  {
   "cell_type": "code",
   "execution_count": 9,
   "metadata": {},
   "outputs": [
    {
     "name": "stdout",
     "output_type": "stream",
     "text": [
      "Epoch 1/100\n",
      "215/215 [==============================] - ETA: 0s - loss: 1.3598 - accuracy: 0.4959\n",
      "Epoch 00001: val_loss improved from inf to 0.74637, saving model to Weights/vgg19_Hair_color_2.h5\n",
      "215/215 [==============================] - 105s 487ms/step - loss: 1.3598 - accuracy: 0.4959 - val_loss: 0.7464 - val_accuracy: 0.7164\n",
      "Epoch 2/100\n",
      "215/215 [==============================] - ETA: 0s - loss: 0.8974 - accuracy: 0.6588\n",
      "Epoch 00002: val_loss improved from 0.74637 to 0.61522, saving model to Weights/vgg19_Hair_color_2.h5\n",
      "215/215 [==============================] - 104s 483ms/step - loss: 0.8974 - accuracy: 0.6588 - val_loss: 0.6152 - val_accuracy: 0.7630\n",
      "Epoch 3/100\n",
      "215/215 [==============================] - ETA: 0s - loss: 0.7075 - accuracy: 0.7332\n",
      "Epoch 00003: val_loss improved from 0.61522 to 0.57188, saving model to Weights/vgg19_Hair_color_2.h5\n",
      "215/215 [==============================] - 104s 484ms/step - loss: 0.7075 - accuracy: 0.7332 - val_loss: 0.5719 - val_accuracy: 0.7801\n",
      "Epoch 4/100\n",
      "215/215 [==============================] - ETA: 0s - loss: 0.6071 - accuracy: 0.7700\n",
      "Epoch 00004: val_loss improved from 0.57188 to 0.56504, saving model to Weights/vgg19_Hair_color_2.h5\n",
      "215/215 [==============================] - 104s 484ms/step - loss: 0.6071 - accuracy: 0.7700 - val_loss: 0.5650 - val_accuracy: 0.7792\n",
      "Epoch 5/100\n",
      "215/215 [==============================] - ETA: 0s - loss: 0.5135 - accuracy: 0.8047\n",
      "Epoch 00005: val_loss did not improve from 0.56504\n",
      "215/215 [==============================] - 103s 480ms/step - loss: 0.5135 - accuracy: 0.8047 - val_loss: 0.5707 - val_accuracy: 0.7839\n",
      "Epoch 6/100\n",
      "215/215 [==============================] - ETA: 0s - loss: 0.4415 - accuracy: 0.8340\n",
      "Epoch 00006: val_loss improved from 0.56504 to 0.56308, saving model to Weights/vgg19_Hair_color_2.h5\n",
      "215/215 [==============================] - 104s 485ms/step - loss: 0.4415 - accuracy: 0.8340 - val_loss: 0.5631 - val_accuracy: 0.7886\n",
      "Epoch 7/100\n",
      "215/215 [==============================] - ETA: 0s - loss: 0.3813 - accuracy: 0.8572\n",
      "Epoch 00007: val_loss did not improve from 0.56308\n",
      "215/215 [==============================] - 103s 479ms/step - loss: 0.3813 - accuracy: 0.8572 - val_loss: 0.5941 - val_accuracy: 0.7851\n",
      "Epoch 8/100\n",
      "215/215 [==============================] - ETA: 0s - loss: 0.3232 - accuracy: 0.8804\n",
      "Epoch 00008: val_loss did not improve from 0.56308\n",
      "215/215 [==============================] - 103s 480ms/step - loss: 0.3232 - accuracy: 0.8804 - val_loss: 0.6078 - val_accuracy: 0.7798\n",
      "Epoch 9/100\n",
      "215/215 [==============================] - ETA: 0s - loss: 0.2659 - accuracy: 0.9068\n",
      "Epoch 00009: val_loss did not improve from 0.56308\n",
      "215/215 [==============================] - 103s 480ms/step - loss: 0.2659 - accuracy: 0.9068 - val_loss: 0.6429 - val_accuracy: 0.7789\n",
      "Epoch 00009: early stopping\n",
      "Loading best weights...\n",
      "Done!\n"
     ]
    }
   ],
   "source": [
    "# Trainable classification head\n",
    "model = tf.keras.Sequential(base_model.layers)\n",
    "\n",
    "model.add(Flatten())\n",
    "model.add(Dense(512, activation = 'relu'))\n",
    "model.add(BatchNormalization())\n",
    "model.add(Dropout(0.5))\n",
    "model.add(Dense(256, activation = 'relu'))\n",
    "model.add(BatchNormalization())\n",
    "model.add(Dropout(0.5))\n",
    "model.add(Dense(128, activation = 'relu'))\n",
    "model.add(BatchNormalization())\n",
    "model.add(Dropout(0.25))\n",
    "model.add(Dense(5, activation = 'softmax'))\n",
    "\n",
    "history, model = trainer.start_train(model, model_file, train_data, valid_data, epoch, multi=True,\n",
    "                                     callback=None,\n",
    "                                     optimize=None)\n",
    "print('Loading best weights...')\n",
    "model.load_weights(model_file)\n",
    "print('Done!')\n",
    "\n",
    "# Saving History\n",
    "with open(json_path, 'w') as f:\n",
    "    json.dump(history.history, f)\n",
    "history = json.load(open(json_path))"
   ]
  },
  {
   "cell_type": "code",
   "execution_count": 10,
   "metadata": {},
   "outputs": [
    {
     "name": "stdout",
     "output_type": "stream",
     "text": [
      "Evaluating the network ...\n",
      "54/54 [==============================] - 23s 430ms/step - loss: 0.5652 - accuracy: 0.7881\n",
      "Validation Loss:\t0.565\n",
      "Validation Acc.:\t0.788\n"
     ]
    }
   ],
   "source": [
    "# Evaluate the network on valid data\n",
    "Prediction.evaluate_model(model, valid_data)"
   ]
  },
  {
   "cell_type": "code",
   "execution_count": 11,
   "metadata": {},
   "outputs": [
    {
     "data": {
      "text/plain": [
       "{'Bald': 0, 'Black_Hair': 1, 'Blond_Hair': 2, 'Brown_Hair': 3, 'Gray_Hair': 4}"
      ]
     },
     "execution_count": 11,
     "metadata": {},
     "output_type": "execute_result"
    }
   ],
   "source": [
    "labels = (train_data.class_indices)\n",
    "labels"
   ]
  },
  {
   "cell_type": "code",
   "execution_count": 12,
   "metadata": {},
   "outputs": [
    {
     "name": "stdout",
     "output_type": "stream",
     "text": [
      "Starting prediction...\n",
      "Done!\n"
     ]
    }
   ],
   "source": [
    "# Predict on test data\n",
    "y_pred = Prediction.test_prediction(model, test_data, train_data)"
   ]
  },
  {
   "cell_type": "code",
   "execution_count": 13,
   "metadata": {},
   "outputs": [
    {
     "name": "stdout",
     "output_type": "stream",
     "text": [
      "Confusion Matrix ...\n",
      "     0    1    2    3    4\n",
      "0  781   23    0    2   92\n",
      "1   26  714    1  140    9\n",
      "2    4    7  719  114   55\n",
      "3    1  137   93  621   44\n",
      "4  187   13   40   40  617\n"
     ]
    },
    {
     "data": {
      "image/png": "[encoded data removed]",
      "text/plain": [
       "<Figure size 1080x360 with 2 Axes>"
      ]
     },
     "metadata": {
      "needs_background": "light"
     },
     "output_type": "display_data"
    },
    {
     "name": "stdout",
     "output_type": "stream",
     "text": [
      "Classification Report ...\n",
      "{'Bald': {'precision': 0.7817817817817818, 'recall': 0.8697104677060133, 'f1-score': 0.823405376910912, 'support': 898}, 'Black_Hair': {'precision': 0.7986577181208053, 'recall': 0.802247191011236, 'f1-score': 0.8004484304932735, 'support': 890}, 'Blond_Hair': {'precision': 0.8429073856975381, 'recall': 0.7997775305895439, 'f1-score': 0.8207762557077625, 'support': 899}, 'Brown_Hair': {'precision': 0.6772082878953108, 'recall': 0.6930803571428571, 'f1-score': 0.6850523993381137, 'support': 896}, 'Gray_Hair': {'precision': 0.7552019583843329, 'recall': 0.6878483835005574, 'f1-score': 0.7199533255542591, 'support': 897}, 'accuracy': 0.7705357142857143, 'macro avg': {'precision': 0.7711514263759538, 'recall': 0.7705327859900415, 'f1-score': 0.769927157600864, 'support': 4480}, 'weighted avg': {'precision': 0.7711638240032564, 'recall': 0.7705357142857143, 'f1-score': 0.7699330509632615, 'support': 4480}}\n"
     ]
    }
   ],
   "source": [
    "# plot\n",
    "top = min(len(test['label']), len(y_pred))\n",
    "metrics = Metrics(history, epoch, test['label'][:top].tolist(), y_pred[:top], model_name, label_name)\n",
    "metrics.confusion_matrix()\n",
    "metrics.acc_loss_graph()\n",
    "metrics.classification_report()"
   ]
  },
  {
   "cell_type": "code",
   "execution_count": null,
   "metadata": {},
   "outputs": [],
   "source": []
  },
  {
   "cell_type": "code",
   "execution_count": null,
   "metadata": {},
   "outputs": [],
   "source": []
  }
 ],
 "metadata": {
  "kernelspec": {
   "display_name": "Environment (conda_tensorflow2_latest_p37)",
   "language": "python",
   "name": "conda_tensorflow2_latest_p37"
  },
  "language_info": {
   "codemirror_mode": {
    "name": "ipython",
    "version": 3
   },
   "file_extension": ".py",
   "mimetype": "text/x-python",
   "name": "python",
   "nbconvert_exporter": "python",
   "pygments_lexer": "ipython3",
   "version": "3.7.7"
  }
 },
 "nbformat": 4,
 "nbformat_minor": 4
}
